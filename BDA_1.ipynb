{
  "cells": [
    {
      "cell_type": "markdown",
      "metadata": {
        "id": "view-in-github",
        "colab_type": "text"
      },
      "source": [
        "<a href=\"https://colab.research.google.com/github/SanmeetGulati/Big-Data-Analytics-Basics/blob/main/BDA_1.ipynb\" target=\"_parent\"><img src=\"https://colab.research.google.com/assets/colab-badge.svg\" alt=\"Open In Colab\"/></a>"
      ]
    },
    {
      "cell_type": "code",
      "execution_count": 1,
      "metadata": {
        "colab": {
          "base_uri": "https://localhost:8080/"
        },
        "id": "A_frXiBG6rJ2",
        "outputId": "2e12ae0c-f78b-4b0c-849d-96e5bf73e2a1"
      },
      "outputs": [
        {
          "output_type": "stream",
          "name": "stdout",
          "text": [
            "Requirement already satisfied: pyspark in /usr/local/lib/python3.12/dist-packages (3.5.1)\n",
            "Requirement already satisfied: py4j==0.10.9.7 in /usr/local/lib/python3.12/dist-packages (from pyspark) (0.10.9.7)\n"
          ]
        }
      ],
      "source": [
        "pip install pyspark"
      ]
    },
    {
      "cell_type": "code",
      "execution_count": 2,
      "metadata": {
        "colab": {
          "base_uri": "https://localhost:8080/"
        },
        "id": "ohVv0YwD6siT",
        "outputId": "2232f560-163e-4ef2-948d-721f8d1c12de"
      },
      "outputs": [
        {
          "output_type": "stream",
          "name": "stdout",
          "text": [
            "Collecting findspark\n",
            "  Downloading findspark-2.0.1-py2.py3-none-any.whl.metadata (352 bytes)\n",
            "Downloading findspark-2.0.1-py2.py3-none-any.whl (4.4 kB)\n",
            "Installing collected packages: findspark\n",
            "Successfully installed findspark-2.0.1\n"
          ]
        }
      ],
      "source": [
        "pip install findspark"
      ]
    },
    {
      "cell_type": "code",
      "execution_count": 3,
      "metadata": {
        "colab": {
          "base_uri": "https://localhost:8080/",
          "height": 196
        },
        "id": "FGL8WiaY6SU8",
        "outputId": "3c7ffbae-c3a8-4846-c8f0-abfda734cf85"
      },
      "outputs": [
        {
          "output_type": "execute_result",
          "data": {
            "text/plain": [
              "<SparkContext master=local[*] appName=MyAppName>"
            ],
            "text/html": [
              "\n",
              "        <div>\n",
              "            <p><b>SparkContext</b></p>\n",
              "\n",
              "            <p><a href=\"http://43ec352fac61:4040\">Spark UI</a></p>\n",
              "\n",
              "            <dl>\n",
              "              <dt>Version</dt>\n",
              "                <dd><code>v3.5.1</code></dd>\n",
              "              <dt>Master</dt>\n",
              "                <dd><code>local[*]</code></dd>\n",
              "              <dt>AppName</dt>\n",
              "                <dd><code>MyAppName</code></dd>\n",
              "            </dl>\n",
              "        </div>\n",
              "        "
            ]
          },
          "metadata": {},
          "execution_count": 3
        }
      ],
      "source": [
        "import findspark\n",
        "findspark.init()\n",
        "import pyspark\n",
        "sc=pyspark.SparkContext(appName=\"MyAppName\")\n",
        "sc"
      ]
    },
    {
      "cell_type": "markdown",
      "metadata": {
        "id": "g7vhUj-67BD8"
      },
      "source": [
        "# Question 1: Student and Class DataFrames\n",
        "Create a student dataframe with following details:-\n",
        "\n",
        "student(rollno , name, address, age, gender)\n",
        "\n",
        "class(classid, classname)"
      ]
    },
    {
      "cell_type": "code",
      "execution_count": 4,
      "metadata": {
        "id": "IgUMFvYk7ApG"
      },
      "outputs": [],
      "source": [
        "from pyspark.sql import SparkSession\n",
        "from pyspark.sql.functions import col, when, lit\n",
        "\n",
        "spark = SparkSession.builder.appName(\"Assignment1_Q1\").getOrCreate()\n",
        "\n",
        "student_data = [\n",
        "    (1, \"Isha\", \"Pune\", 22, \"F\"),\n",
        "    (2, \"Divya\", \"Mumbai\", 22, \"F\"),\n",
        "    (3, \"Harsh\", \"Pune\", 24, \"M\"),\n",
        "    (4, \"Sanmeet\", \"Pune\", 21, \"F\"),\n",
        "    (5, \"Gulafsha\", \"Mumbai\", 21, \"F\"),\n",
        "]\n",
        "class_data = [\n",
        "    (101, \"Data Science\"),\n",
        "    (102, \"ML\"),\n",
        "]\n",
        "student_schema = [\"rollno\", \"name\", \"address\", \"age\", \"gender\"]\n",
        "class_schema = [\"classid\", \"classname\"]\n",
        "\n",
        "\n",
        "student_df = spark.createDataFrame(student_data, student_schema)\n",
        "class_df = spark.createDataFrame(class_data, class_schema)\n"
      ]
    },
    {
      "cell_type": "markdown",
      "metadata": {
        "id": "nNwsEdGl7nRF"
      },
      "source": [
        "Display DataFrames\n"
      ]
    },
    {
      "cell_type": "code",
      "execution_count": 5,
      "metadata": {
        "colab": {
          "base_uri": "https://localhost:8080/"
        },
        "id": "JNWpfgdZ7gLU",
        "outputId": "8cf4fa74-f6c8-4f5b-a050-77a026bb6164"
      },
      "outputs": [
        {
          "output_type": "stream",
          "name": "stdout",
          "text": [
            "+------+--------+-------+---+------+\n",
            "|rollno|    name|address|age|gender|\n",
            "+------+--------+-------+---+------+\n",
            "|     1|    Isha|   Pune| 22|     F|\n",
            "|     2|   Divya| Mumbai| 22|     F|\n",
            "|     3|   Harsh|   Pune| 24|     M|\n",
            "|     4| Sanmeet|   Pune| 21|     F|\n",
            "|     5|Gulafsha| Mumbai| 21|     F|\n",
            "+------+--------+-------+---+------+\n",
            "\n",
            "+-------+------------+\n",
            "|classid|   classname|\n",
            "+-------+------------+\n",
            "|    101|Data Science|\n",
            "|    102|          ML|\n",
            "+-------+------------+\n",
            "\n"
          ]
        }
      ],
      "source": [
        "student_df.show()\n",
        "class_df.show()"
      ]
    },
    {
      "cell_type": "markdown",
      "metadata": {
        "id": "dXcWcXig7-fc"
      },
      "source": [
        "Display student names with gender M and F separately"
      ]
    },
    {
      "cell_type": "code",
      "execution_count": 6,
      "metadata": {
        "colab": {
          "base_uri": "https://localhost:8080/"
        },
        "id": "T0JRrY7H7xIC",
        "outputId": "adb3a02d-7a2c-4233-f0d9-9c0ec2353231"
      },
      "outputs": [
        {
          "output_type": "stream",
          "name": "stdout",
          "text": [
            "Male students:\n",
            "+-----+\n",
            "| name|\n",
            "+-----+\n",
            "|Harsh|\n",
            "+-----+\n",
            "\n",
            "Female students:\n",
            "+--------+\n",
            "|    name|\n",
            "+--------+\n",
            "|    Isha|\n",
            "|   Divya|\n",
            "| Sanmeet|\n",
            "|Gulafsha|\n",
            "+--------+\n",
            "\n"
          ]
        }
      ],
      "source": [
        "print(\"Male students:\")\n",
        "student_df.filter(col(\"gender\") == \"M\").select(\"name\").show()\n",
        "print(\"Female students:\")\n",
        "student_df.filter(col(\"gender\") == \"F\").select(\"name\").show()"
      ]
    },
    {
      "cell_type": "markdown",
      "metadata": {
        "id": "Njven9Qx8LEb"
      },
      "source": [
        " Display students of a specific class (need mapping, demo adding classid=101 for all)"
      ]
    },
    {
      "cell_type": "code",
      "execution_count": 7,
      "metadata": {
        "colab": {
          "base_uri": "https://localhost:8080/"
        },
        "id": "4ctLcs_w8FAC",
        "outputId": "19c48447-a0a6-43ce-f2d7-14c334459d83"
      },
      "outputs": [
        {
          "output_type": "stream",
          "name": "stdout",
          "text": [
            "+-------+------+--------+-------+---+------+------------+\n",
            "|classid|rollno|    name|address|age|gender|   classname|\n",
            "+-------+------+--------+-------+---+------+------------+\n",
            "|    101|     1|    Isha|   Pune| 22|     F|Data Science|\n",
            "|    101|     2|   Divya| Mumbai| 22|     F|Data Science|\n",
            "|    101|     3|   Harsh|   Pune| 24|     M|Data Science|\n",
            "|    101|     4| Sanmeet|   Pune| 21|     F|Data Science|\n",
            "|    101|     5|Gulafsha| Mumbai| 21|     F|Data Science|\n",
            "+-------+------+--------+-------+---+------+------------+\n",
            "\n"
          ]
        }
      ],
      "source": [
        "student_df = student_df.withColumn(\"classid\", lit(101))\n",
        "student_df.join(class_df, \"classid\").show()"
      ]
    },
    {
      "cell_type": "markdown",
      "metadata": {
        "id": "tUkCwp6x8rXr"
      },
      "source": [
        "Students whose age > 22"
      ]
    },
    {
      "cell_type": "code",
      "execution_count": 8,
      "metadata": {
        "colab": {
          "base_uri": "https://localhost:8080/"
        },
        "id": "xsNUGbHn8T-i",
        "outputId": "c0cb38dd-1514-4b4c-c08a-02cc9065041f"
      },
      "outputs": [
        {
          "output_type": "stream",
          "name": "stdout",
          "text": [
            "+------+-----+-------+---+------+-------+\n",
            "|rollno| name|address|age|gender|classid|\n",
            "+------+-----+-------+---+------+-------+\n",
            "|     3|Harsh|   Pune| 24|     M|    101|\n",
            "+------+-----+-------+---+------+-------+\n",
            "\n"
          ]
        }
      ],
      "source": [
        "student_df.filter(col(\"age\") > 22).show()"
      ]
    },
    {
      "cell_type": "markdown",
      "metadata": {
        "id": "KY-f9PkL8vVr"
      },
      "source": [
        "Add column 'grade' to student frame"
      ]
    },
    {
      "cell_type": "code",
      "execution_count": 9,
      "metadata": {
        "colab": {
          "base_uri": "https://localhost:8080/"
        },
        "id": "SayNAQ3y8uXT",
        "outputId": "8c54a276-3a9c-434d-9b77-e614c4b4bb2c"
      },
      "outputs": [
        {
          "output_type": "stream",
          "name": "stdout",
          "text": [
            "+------+--------+-------+---+------+-------+-----+\n",
            "|rollno|    name|address|age|gender|classid|grade|\n",
            "+------+--------+-------+---+------+-------+-----+\n",
            "|     1|    Isha|   Pune| 22|     F|    101|    B|\n",
            "|     2|   Divya| Mumbai| 22|     F|    101|    B|\n",
            "|     3|   Harsh|   Pune| 24|     M|    101|    A|\n",
            "|     4| Sanmeet|   Pune| 21|     F|    101|    B|\n",
            "|     5|Gulafsha| Mumbai| 21|     F|    101|    B|\n",
            "+------+--------+-------+---+------+-------+-----+\n",
            "\n"
          ]
        }
      ],
      "source": [
        "student_df = student_df.withColumn(\"grade\", when(col(\"age\") > 23, \"A\").otherwise(\"B\"))\n",
        "student_df.show()"
      ]
    },
    {
      "cell_type": "markdown",
      "metadata": {
        "id": "-K71S8IE9B7b"
      },
      "source": [
        "Display classnames and associated students"
      ]
    },
    {
      "cell_type": "code",
      "execution_count": 10,
      "metadata": {
        "colab": {
          "base_uri": "https://localhost:8080/"
        },
        "id": "YZwaHLNn81PS",
        "outputId": "061d5ec1-c686-4ab3-cf02-b76919a78ea0"
      },
      "outputs": [
        {
          "output_type": "stream",
          "name": "stdout",
          "text": [
            "+------------+--------+\n",
            "|   classname|    name|\n",
            "+------------+--------+\n",
            "|Data Science|    Isha|\n",
            "|Data Science|   Divya|\n",
            "|Data Science|   Harsh|\n",
            "|Data Science| Sanmeet|\n",
            "|Data Science|Gulafsha|\n",
            "+------------+--------+\n",
            "\n"
          ]
        }
      ],
      "source": [
        "student_df.join(class_df, \"classid\").select(\"classname\", \"name\").show()"
      ]
    },
    {
      "cell_type": "markdown",
      "metadata": {
        "id": "g2lV8IJh-9yE"
      },
      "source": [
        "# Question 2: Employee and Department DataFrames\n",
        "\n",
        "\n",
        "create dataframe"
      ]
    },
    {
      "cell_type": "code",
      "execution_count": 11,
      "metadata": {
        "id": "M2dSE2Sp_EHm"
      },
      "outputs": [],
      "source": [
        "from pyspark.sql.functions import collect_list\n",
        "\n",
        "\n",
        "emp_data = [\n",
        "    (1, \"Harsh\", \"M\", \"Manager\", \"Pune\", 30000, 10),\n",
        "    (2, \"Isha\", \"F\", \"Analyst\", \"Mumbai\", 20000, 20),\n",
        "    (3, \"Ujjwal\", \"M\", \"Clerk\", \"Pune\", 15000, 10),\n",
        "    (4, \"Gulafsha\", \"F\", \"Manager\", \"Mumbai\", 31000, 20),\n",
        "    (5, \"Harry\", \"M\", \"Analyst\", \"Pune\", 21000, 10),\n",
        "]\n",
        "dept_data = [\n",
        "    (10, \"IT\"),\n",
        "    (20, \"HR\"),\n",
        "    (30, \"Finance\"),\n",
        "    (40, \"Operations\"),\n",
        "    (50, \"Legal\"),\n",
        "]\n",
        "emp_schema = [\"eno\", \"ename\", \"gender\", \"designation\", \"city\", \"salary\", \"dno\"]\n",
        "dept_schema = [\"dno\", \"dname\"]\n",
        "\n",
        "emp_df = spark.createDataFrame(emp_data, emp_schema)\n",
        "dept_df = spark.createDataFrame(dept_data, dept_schema)"
      ]
    },
    {
      "cell_type": "markdown",
      "metadata": {
        "id": "jlef5Lht_I5z"
      },
      "source": [
        "Show Schemas"
      ]
    },
    {
      "cell_type": "code",
      "execution_count": 12,
      "metadata": {
        "colab": {
          "base_uri": "https://localhost:8080/"
        },
        "id": "-BKdrT3F_InM",
        "outputId": "11a9af58-24a9-4076-b640-39d19a5e05a8"
      },
      "outputs": [
        {
          "output_type": "stream",
          "name": "stdout",
          "text": [
            "+---+--------+------+-----------+------+------+---+\n",
            "|eno|   ename|gender|designation|  city|salary|dno|\n",
            "+---+--------+------+-----------+------+------+---+\n",
            "|  1|   Harsh|     M|    Manager|  Pune| 30000| 10|\n",
            "|  2|    Isha|     F|    Analyst|Mumbai| 20000| 20|\n",
            "|  3|  Ujjwal|     M|      Clerk|  Pune| 15000| 10|\n",
            "|  4|Gulafsha|     F|    Manager|Mumbai| 31000| 20|\n",
            "|  5|   Harry|     M|    Analyst|  Pune| 21000| 10|\n",
            "+---+--------+------+-----------+------+------+---+\n",
            "\n",
            "+---+----------+\n",
            "|dno|     dname|\n",
            "+---+----------+\n",
            "| 10|        IT|\n",
            "| 20|        HR|\n",
            "| 30|   Finance|\n",
            "| 40|Operations|\n",
            "| 50|     Legal|\n",
            "+---+----------+\n",
            "\n"
          ]
        }
      ],
      "source": [
        "emp_df.show()\n",
        "dept_df.show()"
      ]
    },
    {
      "cell_type": "markdown",
      "metadata": {
        "id": "9eBDYhac_UZV"
      },
      "source": [
        "Filter by designation, salary"
      ]
    },
    {
      "cell_type": "code",
      "execution_count": 13,
      "metadata": {
        "colab": {
          "base_uri": "https://localhost:8080/"
        },
        "id": "ATT42ehS_NQE",
        "outputId": "2dd4c4bb-3e76-4741-a49c-f36691197567"
      },
      "outputs": [
        {
          "output_type": "stream",
          "name": "stdout",
          "text": [
            "+---+--------+------+-----------+------+------+---+\n",
            "|eno|   ename|gender|designation|  city|salary|dno|\n",
            "+---+--------+------+-----------+------+------+---+\n",
            "|  1|   Harsh|     M|    Manager|  Pune| 30000| 10|\n",
            "|  4|Gulafsha|     F|    Manager|Mumbai| 31000| 20|\n",
            "+---+--------+------+-----------+------+------+---+\n",
            "\n",
            "+---+--------+------+-----------+------+------+---+\n",
            "|eno|   ename|gender|designation|  city|salary|dno|\n",
            "+---+--------+------+-----------+------+------+---+\n",
            "|  1|   Harsh|     M|    Manager|  Pune| 30000| 10|\n",
            "|  4|Gulafsha|     F|    Manager|Mumbai| 31000| 20|\n",
            "|  5|   Harry|     M|    Analyst|  Pune| 21000| 10|\n",
            "+---+--------+------+-----------+------+------+---+\n",
            "\n"
          ]
        }
      ],
      "source": [
        "emp_df.filter(col(\"designation\") == \"Manager\").show()\n",
        "emp_df.filter(col(\"salary\") > 20000).show()"
      ]
    },
    {
      "cell_type": "markdown",
      "metadata": {
        "id": "ABWz7w_s_NAb"
      },
      "source": [
        "Data of departments for female employees\n"
      ]
    },
    {
      "cell_type": "code",
      "execution_count": 14,
      "metadata": {
        "colab": {
          "base_uri": "https://localhost:8080/"
        },
        "id": "MspSNWdL_0Pc",
        "outputId": "fc72573e-6a35-49bf-d88f-2cc842d1170c"
      },
      "outputs": [
        {
          "output_type": "stream",
          "name": "stdout",
          "text": [
            "+---+---+--------+------+-----------+------+------+-----+\n",
            "|dno|eno|   ename|gender|designation|  city|salary|dname|\n",
            "+---+---+--------+------+-----------+------+------+-----+\n",
            "| 20|  2|    Isha|     F|    Analyst|Mumbai| 20000|   HR|\n",
            "| 20|  4|Gulafsha|     F|    Manager|Mumbai| 31000|   HR|\n",
            "+---+---+--------+------+-----------+------+------+-----+\n",
            "\n"
          ]
        }
      ],
      "source": [
        "emp_df.filter(col(\"gender\") == \"F\").join(dept_df, \"dno\").show()"
      ]
    },
    {
      "cell_type": "markdown",
      "metadata": {
        "id": "ZBP1-RBxAEns"
      },
      "source": [
        "Increase salary of 'Manager' by 10%"
      ]
    },
    {
      "cell_type": "code",
      "execution_count": 15,
      "metadata": {
        "colab": {
          "base_uri": "https://localhost:8080/"
        },
        "id": "3VYoPG-xAPJb",
        "outputId": "254f656f-bccc-4754-b0eb-7ec3e2c7a48a"
      },
      "outputs": [
        {
          "output_type": "stream",
          "name": "stdout",
          "text": [
            "+---+--------+------+-----------+------+-------+---+\n",
            "|eno|   ename|gender|designation|  city| salary|dno|\n",
            "+---+--------+------+-----------+------+-------+---+\n",
            "|  1|   Harsh|     M|    Manager|  Pune|33000.0| 10|\n",
            "|  2|    Isha|     F|    Analyst|Mumbai|20000.0| 20|\n",
            "|  3|  Ujjwal|     M|      Clerk|  Pune|15000.0| 10|\n",
            "|  4|Gulafsha|     F|    Manager|Mumbai|34100.0| 20|\n",
            "|  5|   Harry|     M|    Analyst|  Pune|21000.0| 10|\n",
            "+---+--------+------+-----------+------+-------+---+\n",
            "\n"
          ]
        }
      ],
      "source": [
        "emp_df = emp_df.withColumn(\"salary\", when(emp_df.designation == \"Manager\", emp_df.salary * 1.1).otherwise(emp_df.salary))\n",
        "emp_df.show()"
      ]
    },
    {
      "cell_type": "markdown",
      "metadata": {
        "id": "-BsdXhOOAPAk"
      },
      "source": [
        "Add more records and show updated schema"
      ]
    },
    {
      "cell_type": "code",
      "execution_count": 16,
      "metadata": {
        "colab": {
          "base_uri": "https://localhost:8080/"
        },
        "id": "GbZr0QO0AO4d",
        "outputId": "44172d0d-ac94-4355-ab8b-d50f6456d5a5"
      },
      "outputs": [
        {
          "output_type": "stream",
          "name": "stdout",
          "text": [
            "+---+--------+------+-----------+------+-------+---+\n",
            "|eno|   ename|gender|designation|  city| salary|dno|\n",
            "+---+--------+------+-----------+------+-------+---+\n",
            "|  1|   Harsh|     M|    Manager|  Pune|33000.0| 10|\n",
            "|  2|    Isha|     F|    Analyst|Mumbai|20000.0| 20|\n",
            "|  3|  Ujjwal|     M|      Clerk|  Pune|15000.0| 10|\n",
            "|  4|Gulafsha|     F|    Manager|Mumbai|34100.0| 20|\n",
            "|  5|   Harry|     M|    Analyst|  Pune|21000.0| 10|\n",
            "|  6|   Divya|     F|    Analyst|  Pune|22000.0| 30|\n",
            "|  7|    Anuj|     M|      Clerk|Mumbai|14000.0| 40|\n",
            "|  8|  Mayuri|     F|    Manager|  Pune|32000.0| 30|\n",
            "+---+--------+------+-----------+------+-------+---+\n",
            "\n",
            "+---+----------+\n",
            "|dno|     dname|\n",
            "+---+----------+\n",
            "| 10|        IT|\n",
            "| 20|        HR|\n",
            "| 30|   Finance|\n",
            "| 40|Operations|\n",
            "| 50|     Legal|\n",
            "| 60| Marketing|\n",
            "| 70|     Sales|\n",
            "| 80|   Support|\n",
            "+---+----------+\n",
            "\n"
          ]
        }
      ],
      "source": [
        "more_emp_data = [\n",
        "    (6, \"Divya\", \"F\", \"Analyst\", \"Pune\", 22000, 30),\n",
        "    (7, \"Anuj\", \"M\", \"Clerk\", \"Mumbai\", 14000, 40),\n",
        "    (8, \"Mayuri\", \"F\", \"Manager\", \"Pune\", 32000, 30),\n",
        "]\n",
        "more_dept_data = [\n",
        "    (60, \"Marketing\"),\n",
        "    (70, \"Sales\"),\n",
        "    (80, \"Support\"),\n",
        "]\n",
        "emp_df = emp_df.union(spark.createDataFrame(more_emp_data, emp_schema))\n",
        "dept_df = dept_df.union(spark.createDataFrame(more_dept_data, dept_schema))\n",
        "emp_df.show()\n",
        "dept_df.show()"
      ]
    },
    {
      "cell_type": "markdown",
      "metadata": {
        "id": "CmInP6AZAOw8"
      },
      "source": [
        "Show join usage for unique records\n"
      ]
    },
    {
      "cell_type": "code",
      "execution_count": 17,
      "metadata": {
        "colab": {
          "base_uri": "https://localhost:8080/"
        },
        "id": "79Gs9liiAOnE",
        "outputId": "9da5a7bb-7ab2-487d-e8e4-3837d5fdba96"
      },
      "outputs": [
        {
          "output_type": "stream",
          "name": "stdout",
          "text": [
            "+---+---+--------+------+-----------+------+-------+----------+\n",
            "|dno|eno|   ename|gender|designation|  city| salary|     dname|\n",
            "+---+---+--------+------+-----------+------+-------+----------+\n",
            "| 10|  1|   Harsh|     M|    Manager|  Pune|33000.0|        IT|\n",
            "| 10|  3|  Ujjwal|     M|      Clerk|  Pune|15000.0|        IT|\n",
            "| 10|  5|   Harry|     M|    Analyst|  Pune|21000.0|        IT|\n",
            "| 20|  2|    Isha|     F|    Analyst|Mumbai|20000.0|        HR|\n",
            "| 20|  4|Gulafsha|     F|    Manager|Mumbai|34100.0|        HR|\n",
            "| 30|  6|   Divya|     F|    Analyst|  Pune|22000.0|   Finance|\n",
            "| 30|  8|  Mayuri|     F|    Manager|  Pune|32000.0|   Finance|\n",
            "| 40|  7|    Anuj|     M|      Clerk|Mumbai|14000.0|Operations|\n",
            "+---+---+--------+------+-----------+------+-------+----------+\n",
            "\n"
          ]
        }
      ],
      "source": [
        "emp_df.join(dept_df, \"dno\").dropDuplicates().show()"
      ]
    },
    {
      "cell_type": "markdown",
      "metadata": {
        "id": "LxVMSOOJAOcj"
      },
      "source": [
        "Department-wise list of employees\n"
      ]
    },
    {
      "cell_type": "code",
      "execution_count": 18,
      "metadata": {
        "colab": {
          "base_uri": "https://localhost:8080/"
        },
        "id": "RFetokx2ANyN",
        "outputId": "d09b26fb-0bd5-4589-a0c6-1188c4375f0f"
      },
      "outputs": [
        {
          "output_type": "stream",
          "name": "stdout",
          "text": [
            "+----------+--------------------+\n",
            "|     dname|           employees|\n",
            "+----------+--------------------+\n",
            "|        HR|    [Isha, Gulafsha]|\n",
            "|   Finance|     [Divya, Mayuri]|\n",
            "|        IT|[Harsh, Ujjwal, H...|\n",
            "|Operations|              [Anuj]|\n",
            "+----------+--------------------+\n",
            "\n"
          ]
        }
      ],
      "source": [
        "emp_df.join(dept_df, \"dno\").groupBy(\"dname\").agg(collect_list(\"ename\").alias(\"employees\")).show()"
      ]
    },
    {
      "cell_type": "markdown",
      "metadata": {
        "id": "Nea7nyS2BIrk"
      },
      "source": [
        "Employees with salary < 20000 and designation == \"Clerk\""
      ]
    },
    {
      "cell_type": "code",
      "execution_count": 19,
      "metadata": {
        "colab": {
          "base_uri": "https://localhost:8080/"
        },
        "id": "GVt3bcEABLoz",
        "outputId": "5f40eb24-c2c2-4335-eaf8-5da7f0da3645"
      },
      "outputs": [
        {
          "output_type": "stream",
          "name": "stdout",
          "text": [
            "+---+------+------+-----------+------+-------+---+\n",
            "|eno| ename|gender|designation|  city| salary|dno|\n",
            "+---+------+------+-----------+------+-------+---+\n",
            "|  3|Ujjwal|     M|      Clerk|  Pune|15000.0| 10|\n",
            "|  7|  Anuj|     M|      Clerk|Mumbai|14000.0| 40|\n",
            "+---+------+------+-----------+------+-------+---+\n",
            "\n"
          ]
        }
      ],
      "source": [
        "emp_df.filter((col(\"salary\") < 20000) & (col(\"designation\") == \"Clerk\")).show()"
      ]
    },
    {
      "cell_type": "markdown",
      "metadata": {
        "id": "Z5TmP38F9Kt6"
      },
      "source": [
        "# Question 3: Product, Customer, Orders DataFrames\n",
        "\n",
        "Create DataFrames"
      ]
    },
    {
      "cell_type": "code",
      "execution_count": 21,
      "metadata": {
        "id": "uKcMxI3Q9Fpy"
      },
      "outputs": [],
      "source": [
        "from pyspark.sql.functions import sum as _sum, min as _min, max as _max, count as _count\n",
        "\n",
        "product_data = [\n",
        "    (1, \"Pen\", \"Stationery\", 15),\n",
        "    (2, \"Notebook\", \"Stationery\", 45),\n",
        "    (3, \"Bottle\", \"Accessory\", 90),\n",
        "]\n",
        "customer_data = [\n",
        "    (1, \"Ankita\", \"990\", \"Pune\"),\n",
        "    (2, \"Priya\", \"880\", \"Mumbai\"),\n",
        "    (3, \"Ravi\", \"770\", \"Pune\"),\n",
        "]\n",
        "orders_data = [\n",
        "    (1, \"2025-08-01\", 1, \"COMPLETE\"),\n",
        "    (2, \"2025-08-15\", 2, \"CLOSED\"),\n",
        "    (3, \"2025-07-15\", 3, \"PENDING\"),\n",
        "]\n",
        "order_items_data = [\n",
        "    (1, 1, 2, 30),\n",
        "    (1, 2, 1, 45),\n",
        "    (2, 2, 2, 90),\n",
        "    (3, 3, 1, 90),\n",
        "]\n",
        "prod_schema = [\"product_id\", \"pname\", \"ptype\", \"price\"]\n",
        "cust_schema = [\"cust_id\", \"cname\", \"mobileno\", \"city\"]\n",
        "orders_schema = [\"order_id\", \"order_date\", \"order_customer_id\", \"order_status\"]\n",
        "order_items_schema = [\"order_item_order_id\", \"order_item_product_id\", \"order_item_quantity\", \"order_item_subtotal\"]\n",
        "\n",
        "product_df = spark.createDataFrame(product_data, prod_schema)\n",
        "customer_df = spark.createDataFrame(customer_data, cust_schema)\n",
        "orders_df = spark.createDataFrame(orders_data, orders_schema)\n",
        "order_items_df = spark.createDataFrame(order_items_data, order_items_schema)\n"
      ]
    },
    {
      "cell_type": "markdown",
      "metadata": {
        "id": "gMsUnhGf9kvM"
      },
      "source": [
        " Get details of all customers from Pune city"
      ]
    },
    {
      "cell_type": "code",
      "execution_count": 22,
      "metadata": {
        "colab": {
          "base_uri": "https://localhost:8080/"
        },
        "id": "3tSe8WMT9faz",
        "outputId": "8228965b-7cb1-4de0-d7b5-f7eef67b9904"
      },
      "outputs": [
        {
          "output_type": "stream",
          "name": "stdout",
          "text": [
            "+-------+------+--------+----+\n",
            "|cust_id| cname|mobileno|city|\n",
            "+-------+------+--------+----+\n",
            "|      1|Ankita|     990|Pune|\n",
            "|      3|  Ravi|     770|Pune|\n",
            "+-------+------+--------+----+\n",
            "\n"
          ]
        }
      ],
      "source": [
        "customer_df.filter(col(\"city\") == \"Pune\").show()\n"
      ]
    },
    {
      "cell_type": "markdown",
      "metadata": {
        "id": "FwzQ7KeC9nqq"
      },
      "source": [
        "Orders with subtotal > 50 in August"
      ]
    },
    {
      "cell_type": "code",
      "execution_count": 23,
      "metadata": {
        "colab": {
          "base_uri": "https://localhost:8080/"
        },
        "id": "MQVb6VHp9m8y",
        "outputId": "51431ac3-35f5-45a3-8dc5-cd6bcb81a773"
      },
      "outputs": [
        {
          "output_type": "stream",
          "name": "stdout",
          "text": [
            "+--------+----------+-----------------+------------+-------------------+---------------------+-------------------+-------------------+\n",
            "|order_id|order_date|order_customer_id|order_status|order_item_order_id|order_item_product_id|order_item_quantity|order_item_subtotal|\n",
            "+--------+----------+-----------------+------------+-------------------+---------------------+-------------------+-------------------+\n",
            "|       2|2025-08-15|                2|      CLOSED|                  2|                    2|                  2|                 90|\n",
            "+--------+----------+-----------------+------------+-------------------+---------------------+-------------------+-------------------+\n",
            "\n"
          ]
        }
      ],
      "source": [
        "orders_aug = orders_df.join(order_items_df, orders_df.order_id == order_items_df.order_item_order_id)\\\n",
        "    .filter((col(\"order_item_subtotal\") > 50) & (col(\"order_date\").substr(6, 2) == \"08\"))\n",
        "orders_aug.show()"
      ]
    },
    {
      "cell_type": "markdown",
      "metadata": {
        "id": "m9BPMMXT923K"
      },
      "source": [
        "Orders in ascending order of subtotal"
      ]
    },
    {
      "cell_type": "code",
      "execution_count": 24,
      "metadata": {
        "colab": {
          "base_uri": "https://localhost:8080/"
        },
        "id": "vAGRaGwy9wkP",
        "outputId": "f17fcf08-c6ae-4281-ddf4-9c719340344f"
      },
      "outputs": [
        {
          "output_type": "stream",
          "name": "stdout",
          "text": [
            "+-------------------+---------------------+-------------------+-------------------+\n",
            "|order_item_order_id|order_item_product_id|order_item_quantity|order_item_subtotal|\n",
            "+-------------------+---------------------+-------------------+-------------------+\n",
            "|                  1|                    1|                  2|                 30|\n",
            "|                  1|                    2|                  1|                 45|\n",
            "|                  2|                    2|                  2|                 90|\n",
            "|                  3|                    3|                  1|                 90|\n",
            "+-------------------+---------------------+-------------------+-------------------+\n",
            "\n"
          ]
        }
      ],
      "source": [
        "order_items_df.orderBy(col(\"order_item_subtotal\").asc()).show()"
      ]
    },
    {
      "cell_type": "markdown",
      "metadata": {
        "id": "he-WPQdY98HT"
      },
      "source": [
        "Customer details with min/max order amount"
      ]
    },
    {
      "cell_type": "code",
      "execution_count": 25,
      "metadata": {
        "colab": {
          "base_uri": "https://localhost:8080/"
        },
        "id": "IH71tuYj95C_",
        "outputId": "064241af-17f4-4542-b8d9-c39559899bc3"
      },
      "outputs": [
        {
          "output_type": "stream",
          "name": "stdout",
          "text": [
            "+--------+----------+-----------------+------------+-------------------+-----+-------+------+--------+----+\n",
            "|order_id|order_date|order_customer_id|order_status|order_item_order_id|total|cust_id| cname|mobileno|city|\n",
            "+--------+----------+-----------------+------------+-------------------+-----+-------+------+--------+----+\n",
            "|       1|2025-08-01|                1|    COMPLETE|                  1|   75|      1|Ankita|     990|Pune|\n",
            "+--------+----------+-----------------+------------+-------------------+-----+-------+------+--------+----+\n",
            "\n",
            "+--------+----------+-----------------+------------+-------------------+-----+-------+-----+--------+------+\n",
            "|order_id|order_date|order_customer_id|order_status|order_item_order_id|total|cust_id|cname|mobileno|  city|\n",
            "+--------+----------+-----------------+------------+-------------------+-----+-------+-----+--------+------+\n",
            "|       3|2025-07-15|                3|     PENDING|                  3|   90|      3| Ravi|     770|  Pune|\n",
            "|       2|2025-08-15|                2|      CLOSED|                  2|   90|      2|Priya|     880|Mumbai|\n",
            "+--------+----------+-----------------+------------+-------------------+-----+-------+-----+--------+------+\n",
            "\n"
          ]
        }
      ],
      "source": [
        "order_totals = order_items_df.groupBy(\"order_item_order_id\").agg(_sum(\"order_item_subtotal\").alias(\"total\"))\n",
        "min_amt = order_totals.agg(_min(\"total\")).first()[\"min(total)\"]\n",
        "max_amt = order_totals.agg(_max(\"total\")).first()[\"max(total)\"]\n",
        "\n",
        "orders_df.join(order_totals, orders_df.order_id == order_totals.order_item_order_id)\\\n",
        "    .filter(col(\"total\") == min_amt).join(customer_df, orders_df.order_customer_id == customer_df.cust_id).show()\n",
        "orders_df.join(order_totals, orders_df.order_id == order_totals.order_item_order_id)\\\n",
        "    .filter(col(\"total\") == max_amt).join(customer_df, orders_df.order_customer_id == customer_df.cust_id).show()\n"
      ]
    },
    {
      "cell_type": "markdown",
      "metadata": {
        "id": "94maWgEt-E5j"
      },
      "source": [
        "Orders which are COMPLETE or CLOSED"
      ]
    },
    {
      "cell_type": "code",
      "execution_count": 26,
      "metadata": {
        "colab": {
          "base_uri": "https://localhost:8080/"
        },
        "id": "1WdQk5SA9_a6",
        "outputId": "09bb8ee9-318f-4585-b750-db6d6cd12695"
      },
      "outputs": [
        {
          "output_type": "stream",
          "name": "stdout",
          "text": [
            "+--------+----------+-----------------+------------+\n",
            "|order_id|order_date|order_customer_id|order_status|\n",
            "+--------+----------+-----------------+------------+\n",
            "|       1|2025-08-01|                1|    COMPLETE|\n",
            "|       2|2025-08-15|                2|      CLOSED|\n",
            "+--------+----------+-----------------+------------+\n",
            "\n"
          ]
        }
      ],
      "source": [
        "orders_df.filter(col(\"order_status\").isin(\"COMPLETE\", \"CLOSED\")).show()"
      ]
    },
    {
      "cell_type": "markdown",
      "metadata": {
        "id": "m98MMTrJ-J3f"
      },
      "source": [
        "Orders COMPLETE or CLOSED in August 2025"
      ]
    },
    {
      "cell_type": "code",
      "execution_count": 27,
      "metadata": {
        "colab": {
          "base_uri": "https://localhost:8080/"
        },
        "id": "epnk0QEj-HZK",
        "outputId": "83955bc2-b982-484e-b2b9-9da25de01081"
      },
      "outputs": [
        {
          "output_type": "stream",
          "name": "stdout",
          "text": [
            "+--------+----------+-----------------+------------+\n",
            "|order_id|order_date|order_customer_id|order_status|\n",
            "+--------+----------+-----------------+------------+\n",
            "|       1|2025-08-01|                1|    COMPLETE|\n",
            "|       2|2025-08-15|                2|      CLOSED|\n",
            "+--------+----------+-----------------+------------+\n",
            "\n"
          ]
        }
      ],
      "source": [
        "orders_df.filter(col(\"order_status\").isin(\"COMPLETE\", \"CLOSED\")).filter(col(\"order_date\").startswith(\"2025-08\")).show()"
      ]
    },
    {
      "cell_type": "markdown",
      "metadata": {
        "id": "L6_gyFWm-SAY"
      },
      "source": [
        "order_items where subtotal is not equal to quantity * price"
      ]
    },
    {
      "cell_type": "code",
      "execution_count": 28,
      "metadata": {
        "colab": {
          "base_uri": "https://localhost:8080/"
        },
        "id": "63gLrjXY-MpF",
        "outputId": "eb6ac481-3a85-4040-fccc-8ea269d31143"
      },
      "outputs": [
        {
          "output_type": "stream",
          "name": "stdout",
          "text": [
            "+-------------------+---------------------+-------------------+-------------------+----------+-----+-----+-----+\n",
            "|order_item_order_id|order_item_product_id|order_item_quantity|order_item_subtotal|product_id|pname|ptype|price|\n",
            "+-------------------+---------------------+-------------------+-------------------+----------+-----+-----+-----+\n",
            "+-------------------+---------------------+-------------------+-------------------+----------+-----+-----+-----+\n",
            "\n"
          ]
        }
      ],
      "source": [
        "order_items_df.join(product_df, order_items_df.order_item_product_id == product_df.product_id)\\\n",
        "    .filter(col(\"order_item_subtotal\") != col(\"order_item_quantity\") * col(\"price\")).show()"
      ]
    },
    {
      "cell_type": "markdown",
      "metadata": {
        "id": "2t-h8NbO-XWO"
      },
      "source": [
        "Orders placed on first of every month"
      ]
    },
    {
      "cell_type": "code",
      "execution_count": 29,
      "metadata": {
        "colab": {
          "base_uri": "https://localhost:8080/"
        },
        "id": "zgowlv-M-PGm",
        "outputId": "63808dfd-bdf6-4dfd-c455-f655049d46f4"
      },
      "outputs": [
        {
          "output_type": "stream",
          "name": "stdout",
          "text": [
            "+--------+----------+-----------------+------------+\n",
            "|order_id|order_date|order_customer_id|order_status|\n",
            "+--------+----------+-----------------+------------+\n",
            "|       1|2025-08-01|                1|    COMPLETE|\n",
            "+--------+----------+-----------------+------------+\n",
            "\n"
          ]
        }
      ],
      "source": [
        "orders_df.filter(col(\"order_date\").substr(9, 2) == \"01\").show()\n"
      ]
    },
    {
      "cell_type": "markdown",
      "metadata": {
        "id": "zkD4Y_2h-axl"
      },
      "source": [
        " Count by status from orders"
      ]
    },
    {
      "cell_type": "code",
      "execution_count": 30,
      "metadata": {
        "colab": {
          "base_uri": "https://localhost:8080/"
        },
        "id": "aTkw9pQw-Z-x",
        "outputId": "3d7bdd8e-a651-4afe-f383-b959b7f30087"
      },
      "outputs": [
        {
          "output_type": "stream",
          "name": "stdout",
          "text": [
            "+------------+---------------+\n",
            "|order_status|count(order_id)|\n",
            "+------------+---------------+\n",
            "|    COMPLETE|              1|\n",
            "|      CLOSED|              1|\n",
            "|     PENDING|              1|\n",
            "+------------+---------------+\n",
            "\n"
          ]
        }
      ],
      "source": [
        "orders_df.groupBy(\"order_status\").agg(_count(\"order_id\")).show()\n"
      ]
    },
    {
      "cell_type": "markdown",
      "metadata": {
        "id": "gZn6aNkA-heJ"
      },
      "source": [
        "Revenue for each order id from order_items"
      ]
    },
    {
      "cell_type": "code",
      "execution_count": 31,
      "metadata": {
        "colab": {
          "base_uri": "https://localhost:8080/"
        },
        "id": "pncY5IF8-ezh",
        "outputId": "6474f4cc-15d0-4d48-e66a-3f5b57f78b76"
      },
      "outputs": [
        {
          "output_type": "stream",
          "name": "stdout",
          "text": [
            "+-------------------+-------+\n",
            "|order_item_order_id|revenue|\n",
            "+-------------------+-------+\n",
            "|                  1|     75|\n",
            "|                  3|     90|\n",
            "|                  2|     90|\n",
            "+-------------------+-------+\n",
            "\n"
          ]
        }
      ],
      "source": [
        "order_items_df.groupBy(\"order_item_order_id\").agg(_sum(\"order_item_subtotal\").alias(\"revenue\")).show()\n"
      ]
    },
    {
      "cell_type": "markdown",
      "metadata": {
        "id": "aOfOlwpa-kuR"
      },
      "source": [
        "Daily product revenue"
      ]
    },
    {
      "cell_type": "code",
      "execution_count": 32,
      "metadata": {
        "colab": {
          "base_uri": "https://localhost:8080/"
        },
        "id": "KQ4be4YN-j_R",
        "outputId": "dc4057d8-c6ce-481e-8315-8490037cd058"
      },
      "outputs": [
        {
          "output_type": "stream",
          "name": "stdout",
          "text": [
            "+----------+---------------------+-------------+\n",
            "|order_date|order_item_product_id|daily_revenue|\n",
            "+----------+---------------------+-------------+\n",
            "|2025-08-01|                    1|           30|\n",
            "|2025-08-01|                    2|           45|\n",
            "|2025-08-15|                    2|           90|\n",
            "|2025-07-15|                    3|           90|\n",
            "+----------+---------------------+-------------+\n",
            "\n"
          ]
        }
      ],
      "source": [
        "orders_df.join(order_items_df, orders_df.order_id == order_items_df.order_item_order_id)\\\n",
        "    .groupBy(\"order_date\", \"order_item_product_id\")\\\n",
        "    .agg(_sum(\"order_item_subtotal\").alias(\"daily_revenue\")).show()"
      ]
    },
    {
      "cell_type": "code",
      "execution_count": null,
      "metadata": {
        "id": "Xvau3iRH-pZN"
      },
      "outputs": [],
      "source": []
    }
  ],
  "metadata": {
    "colab": {
      "provenance": [],
      "gpuType": "T4",
      "include_colab_link": true
    },
    "kernelspec": {
      "display_name": "Python 3",
      "name": "python3"
    },
    "language_info": {
      "name": "python"
    },
    "accelerator": "GPU"
  },
  "nbformat": 4,
  "nbformat_minor": 0
}