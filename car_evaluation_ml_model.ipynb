{
  "cells": [
    {
      "cell_type": "markdown",
      "metadata": {
        "id": "view-in-github",
        "colab_type": "text"
      },
      "source": [
        "<a href=\"https://colab.research.google.com/github/SanmeetGulati/Big-Data-Analytics-Basics/blob/main/car_evaluation_ml_model.ipynb\" target=\"_parent\"><img src=\"https://colab.research.google.com/assets/colab-badge.svg\" alt=\"Open In Colab\"/></a>"
      ]
    },
    {
      "cell_type": "markdown",
      "id": "635b6191",
      "metadata": {
        "id": "635b6191"
      },
      "source": [
        "**Q1 - Car Evaluation**"
      ]
    },
    {
      "cell_type": "code",
      "execution_count": null,
      "id": "9b88f7c6",
      "metadata": {
        "id": "9b88f7c6"
      },
      "outputs": [],
      "source": [
        "from pyspark.sql import SparkSession\n",
        "from pyspark.sql.functions import when, col\n",
        "from pyspark.ml import Pipeline\n",
        "from pyspark.ml.feature import StringIndexer, OneHotEncoder, VectorAssembler, StandardScaler\n",
        "from pyspark.ml.classification import RandomForestClassifier\n",
        "from pyspark.ml.evaluation import MulticlassClassificationEvaluator\n",
        "from pyspark.ml.evaluation import BinaryClassificationEvaluator\n",
        "from pyspark.mllib.evaluation import MulticlassMetrics"
      ]
    },
    {
      "cell_type": "markdown",
      "id": "031b05a1",
      "metadata": {
        "id": "031b05a1"
      },
      "source": [
        "Create Spark Session"
      ]
    },
    {
      "cell_type": "code",
      "execution_count": null,
      "id": "a45e6ab3",
      "metadata": {
        "id": "a45e6ab3"
      },
      "outputs": [],
      "source": [
        "spark = SparkSession.builder.appName(\"CarPriceClassification\").getOrCreate()"
      ]
    },
    {
      "cell_type": "markdown",
      "id": "ec03f4a1",
      "metadata": {
        "id": "ec03f4a1"
      },
      "source": [
        "Load dataset"
      ]
    },
    {
      "cell_type": "code",
      "execution_count": null,
      "id": "zqbIVv7l-kEd",
      "metadata": {
        "id": "zqbIVv7l-kEd",
        "colab": {
          "base_uri": "https://localhost:8080/"
        },
        "outputId": "de4bdaf5-d91c-495b-f4fe-592bdd521975"
      },
      "outputs": [
        {
          "output_type": "stream",
          "name": "stdout",
          "text": [
            "Mounted at /content/drive\n"
          ]
        }
      ],
      "source": [
        "from google.colab import drive\n",
        "drive.mount('/content/drive')"
      ]
    },
    {
      "cell_type": "code",
      "execution_count": null,
      "id": "68a58e3d",
      "metadata": {
        "id": "68a58e3d",
        "colab": {
          "base_uri": "https://localhost:8080/"
        },
        "outputId": "700242ef-7787-4396-9081-a9445dc0d2dd"
      },
      "outputs": [
        {
          "output_type": "stream",
          "name": "stdout",
          "text": [
            "Dataset Loaded Successfully!\n",
            "root\n",
            " |-- Make: string (nullable = true)\n",
            " |-- Model: string (nullable = true)\n",
            " |-- Year: integer (nullable = true)\n",
            " |-- Engine Fuel Type: string (nullable = true)\n",
            " |-- Engine HP: integer (nullable = true)\n",
            " |-- Engine Cylinders: integer (nullable = true)\n",
            " |-- Transmission Type: string (nullable = true)\n",
            " |-- Driven_Wheels: string (nullable = true)\n",
            " |-- Number of Doors: integer (nullable = true)\n",
            " |-- Market Category: string (nullable = true)\n",
            " |-- Vehicle Size: string (nullable = true)\n",
            " |-- Vehicle Style: string (nullable = true)\n",
            " |-- highway MPG: integer (nullable = true)\n",
            " |-- city mpg: integer (nullable = true)\n",
            " |-- Popularity: integer (nullable = true)\n",
            " |-- MSRP: integer (nullable = true)\n",
            "\n",
            "+----+----------+----+--------------------+---------+----------------+-----------------+----------------+---------------+--------------------+------------+-------------+-----------+--------+----------+-----+\n",
            "|Make|     Model|Year|    Engine Fuel Type|Engine HP|Engine Cylinders|Transmission Type|   Driven_Wheels|Number of Doors|     Market Category|Vehicle Size|Vehicle Style|highway MPG|city mpg|Popularity| MSRP|\n",
            "+----+----------+----+--------------------+---------+----------------+-----------------+----------------+---------------+--------------------+------------+-------------+-----------+--------+----------+-----+\n",
            "| BMW|1 Series M|2011|premium unleaded ...|      335|               6|           MANUAL|rear wheel drive|              2|Factory Tuner,Lux...|     Compact|        Coupe|         26|      19|      3916|46135|\n",
            "| BMW|  1 Series|2011|premium unleaded ...|      300|               6|           MANUAL|rear wheel drive|              2|  Luxury,Performance|     Compact|  Convertible|         28|      19|      3916|40650|\n",
            "| BMW|  1 Series|2011|premium unleaded ...|      300|               6|           MANUAL|rear wheel drive|              2|Luxury,High-Perfo...|     Compact|        Coupe|         28|      20|      3916|36350|\n",
            "| BMW|  1 Series|2011|premium unleaded ...|      230|               6|           MANUAL|rear wheel drive|              2|  Luxury,Performance|     Compact|        Coupe|         28|      18|      3916|29450|\n",
            "| BMW|  1 Series|2011|premium unleaded ...|      230|               6|           MANUAL|rear wheel drive|              2|              Luxury|     Compact|  Convertible|         28|      18|      3916|34500|\n",
            "+----+----------+----+--------------------+---------+----------------+-----------------+----------------+---------------+--------------------+------------+-------------+-----------+--------+----------+-----+\n",
            "only showing top 5 rows\n",
            "\n"
          ]
        }
      ],
      "source": [
        "data_path = \"/content/drive/My Drive/car_data.csv\"\n",
        "df = spark.read.option(\"header\", True).option(\"inferSchema\", True).csv(data_path)\n",
        "\n",
        "print(\"Dataset Loaded Successfully!\")\n",
        "df.printSchema()\n",
        "df.show(5)"
      ]
    },
    {
      "cell_type": "markdown",
      "id": "6c1adcf3",
      "metadata": {
        "id": "6c1adcf3"
      },
      "source": [
        "Drop rows with missing MSRP"
      ]
    },
    {
      "cell_type": "code",
      "execution_count": null,
      "id": "e8f747b7",
      "metadata": {
        "id": "e8f747b7"
      },
      "outputs": [],
      "source": [
        "df = df.na.drop(subset=[\"MSRP\"])"
      ]
    },
    {
      "cell_type": "markdown",
      "id": "b37ea1e3",
      "metadata": {
        "id": "b37ea1e3"
      },
      "source": [
        "Create target variable (price category)"
      ]
    },
    {
      "cell_type": "code",
      "execution_count": null,
      "id": "21896710",
      "metadata": {
        "id": "21896710"
      },
      "outputs": [],
      "source": [
        "df = df.withColumn(\n",
        "    \"price_category\",\n",
        "    when(col(\"MSRP\") < 20000, \"Low\")\n",
        "    .when((col(\"MSRP\") >= 20000) & (col(\"MSRP\") <= 40000), \"Medium\")\n",
        "    .otherwise(\"High\")\n",
        ")\n"
      ]
    },
    {
      "cell_type": "markdown",
      "id": "f01a2dd6",
      "metadata": {
        "id": "f01a2dd6"
      },
      "source": [
        "Drop unnecessary columns (Make, Model, Year optional)"
      ]
    },
    {
      "cell_type": "code",
      "execution_count": null,
      "id": "82770b24",
      "metadata": {
        "id": "82770b24"
      },
      "outputs": [],
      "source": [
        "df = df.drop(\"Make\", \"Model\", \"Market Category\")"
      ]
    },
    {
      "cell_type": "markdown",
      "id": "cf393531",
      "metadata": {
        "id": "cf393531"
      },
      "source": [
        "Identify categorical and numerical features"
      ]
    },
    {
      "cell_type": "code",
      "execution_count": null,
      "id": "693769e6",
      "metadata": {
        "id": "693769e6"
      },
      "outputs": [],
      "source": [
        "categorical_cols = [\"Engine Fuel Type\", \"Transmission Type\", \"Driven_Wheels\", \"Vehicle Size\", \"Vehicle Style\"]\n",
        "numeric_cols = [\"Engine HP\", \"Engine Cylinders\", \"Number of Doors\", \"highway MPG\", \"city mpg\", \"Popularity\"]"
      ]
    },
    {
      "cell_type": "markdown",
      "id": "d44e0e12",
      "metadata": {
        "id": "d44e0e12"
      },
      "source": [
        "Handle missing numeric values"
      ]
    },
    {
      "cell_type": "code",
      "execution_count": null,
      "id": "dce83a2f",
      "metadata": {
        "id": "dce83a2f"
      },
      "outputs": [],
      "source": [
        "for c in numeric_cols:\n",
        "    df = df.na.fill({c: 0})"
      ]
    },
    {
      "cell_type": "markdown",
      "id": "7229eda5",
      "metadata": {
        "id": "7229eda5"
      },
      "source": [
        "StringIndexer + OneHotEncoder for categorical columns"
      ]
    },
    {
      "cell_type": "code",
      "execution_count": null,
      "id": "208ce5f6",
      "metadata": {
        "id": "208ce5f6"
      },
      "outputs": [],
      "source": [
        "indexers = [StringIndexer(inputCol=c, outputCol=c + \"_idx\", handleInvalid=\"keep\") for c in categorical_cols]\n",
        "encoder = OneHotEncoder(\n",
        "    inputCols=[c + \"_idx\" for c in categorical_cols],\n",
        "    outputCols=[c + \"_ohe\" for c in categorical_cols]\n",
        ")"
      ]
    },
    {
      "cell_type": "markdown",
      "id": "6015f229",
      "metadata": {
        "id": "6015f229"
      },
      "source": [
        "Index target variable"
      ]
    },
    {
      "cell_type": "code",
      "execution_count": null,
      "id": "5883fc76",
      "metadata": {
        "id": "5883fc76"
      },
      "outputs": [],
      "source": [
        "label_indexer = StringIndexer(inputCol=\"price_category\", outputCol=\"label\")"
      ]
    },
    {
      "cell_type": "markdown",
      "id": "587c9e08",
      "metadata": {
        "id": "587c9e08"
      },
      "source": [
        "Assemble all features"
      ]
    },
    {
      "cell_type": "code",
      "execution_count": null,
      "id": "ab24b964",
      "metadata": {
        "id": "ab24b964"
      },
      "outputs": [],
      "source": [
        "assembler = VectorAssembler(\n",
        "    inputCols=[c + \"_ohe\" for c in categorical_cols] + numeric_cols,\n",
        "    outputCol=\"features_raw\"\n",
        ")\n",
        "scaler = StandardScaler(inputCol=\"features_raw\", outputCol=\"features\")"
      ]
    },
    {
      "cell_type": "markdown",
      "id": "b091a68d",
      "metadata": {
        "id": "b091a68d"
      },
      "source": [
        "Build model"
      ]
    },
    {
      "cell_type": "code",
      "execution_count": null,
      "id": "e557df57",
      "metadata": {
        "id": "e557df57"
      },
      "outputs": [],
      "source": [
        "rf = RandomForestClassifier(labelCol=\"label\", featuresCol=\"features\", numTrees=100, seed=42)"
      ]
    },
    {
      "cell_type": "markdown",
      "id": "cb01046f",
      "metadata": {
        "id": "cb01046f"
      },
      "source": [
        "Create pipeline"
      ]
    },
    {
      "cell_type": "code",
      "execution_count": null,
      "id": "edaa4a97",
      "metadata": {
        "id": "edaa4a97"
      },
      "outputs": [],
      "source": [
        "pipeline = Pipeline(stages=indexers + [encoder, label_indexer, assembler, scaler, rf])"
      ]
    },
    {
      "cell_type": "markdown",
      "id": "c08d82a7",
      "metadata": {
        "id": "c08d82a7"
      },
      "source": [
        "Split data"
      ]
    },
    {
      "cell_type": "code",
      "execution_count": null,
      "id": "6bc4a232",
      "metadata": {
        "id": "6bc4a232"
      },
      "outputs": [],
      "source": [
        "train, test = df.randomSplit([0.8, 0.2], seed=42)"
      ]
    },
    {
      "cell_type": "markdown",
      "id": "cbff7cd8",
      "metadata": {
        "id": "cbff7cd8"
      },
      "source": [
        "Train model"
      ]
    },
    {
      "cell_type": "code",
      "execution_count": null,
      "id": "3b2d0887",
      "metadata": {
        "id": "3b2d0887"
      },
      "outputs": [],
      "source": [
        "model = pipeline.fit(train)"
      ]
    },
    {
      "cell_type": "code",
      "execution_count": null,
      "id": "b3692466",
      "metadata": {
        "id": "b3692466"
      },
      "outputs": [],
      "source": [
        "preds = model.transform(test)"
      ]
    },
    {
      "cell_type": "markdown",
      "id": "f09ad405",
      "metadata": {
        "id": "f09ad405"
      },
      "source": [
        "Evaluate"
      ]
    },
    {
      "cell_type": "code",
      "execution_count": null,
      "id": "4dcc6107",
      "metadata": {
        "id": "4dcc6107",
        "colab": {
          "base_uri": "https://localhost:8080/"
        },
        "outputId": "d2e51d6f-60cb-471e-ec54-a012a12f6b56"
      },
      "outputs": [
        {
          "output_type": "stream",
          "name": "stdout",
          "text": [
            "\n",
            "Model Accuracy: 0.7899\n"
          ]
        }
      ],
      "source": [
        "evaluator = MulticlassClassificationEvaluator(labelCol=\"label\", predictionCol=\"prediction\", metricName=\"accuracy\")\n",
        "accuracy = evaluator.evaluate(preds)\n",
        "print(f\"\\nModel Accuracy: {accuracy:.4f}\")"
      ]
    },
    {
      "cell_type": "markdown",
      "id": "2d82c9ff",
      "metadata": {
        "id": "2d82c9ff"
      },
      "source": [
        "Classification report with safe check for empty RDD"
      ]
    },
    {
      "cell_type": "code",
      "execution_count": null,
      "id": "992ff71f",
      "metadata": {
        "id": "992ff71f",
        "colab": {
          "base_uri": "https://localhost:8080/"
        },
        "outputId": "499e86c2-2774-47a6-f698-55a333db5126"
      },
      "outputs": [
        {
          "output_type": "stream",
          "name": "stderr",
          "text": [
            "/usr/local/lib/python3.12/dist-packages/pyspark/sql/context.py:158: FutureWarning: Deprecated in 3.0.0. Use SparkSession.builder.getOrCreate() instead.\n",
            "  warnings.warn(\n"
          ]
        },
        {
          "output_type": "stream",
          "name": "stdout",
          "text": [
            "\n",
            "Classification Report\n",
            "Class 2.0: Precision=0.844, Recall=0.613, F1=0.710\n",
            "Class 0.0: Precision=0.742, Recall=0.899, F1=0.813\n",
            "Class 1.0: Precision=0.879, Recall=0.724, F1=0.794\n",
            "\n",
            "Confusion Matrix\n",
            "[[1053.   64.   54.]\n",
            " [ 185.  486.    0.]\n",
            " [ 181.    3.  292.]]\n"
          ]
        }
      ],
      "source": [
        "if preds.count() == 0:\n",
        "    print(\"No predictions available; test set may be empty or has issues.\")\n",
        "else:\n",
        "    preds_and_labels = preds.select(\"prediction\", \"label\").rdd.map(lambda r: (float(r[0]), float(r[1])))\n",
        "    metrics = MulticlassMetrics(preds_and_labels)\n",
        "\n",
        "    print(\"\\nClassification Report\")\n",
        "    labels = preds_and_labels.map(lambda x: x[1]).distinct().collect()\n",
        "    for label in labels:\n",
        "        print(f\"Class {label}: Precision={metrics.precision(label):.3f}, Recall={metrics.recall(label):.3f}, F1={metrics.fMeasure(label):.3f}\")\n",
        "\n",
        "    print(\"\\nConfusion Matrix\")\n",
        "    print(metrics.confusionMatrix().toArray())"
      ]
    },
    {
      "cell_type": "markdown",
      "id": "83bbfba6",
      "metadata": {
        "id": "83bbfba6"
      },
      "source": [
        "Save model"
      ]
    },
    {
      "cell_type": "code",
      "execution_count": null,
      "id": "4a45e2f7",
      "metadata": {
        "id": "4a45e2f7",
        "colab": {
          "base_uri": "https://localhost:8080/"
        },
        "outputId": "25adb2e0-a5eb-497f-93e1-b9f6122ef3e2"
      },
      "outputs": [
        {
          "output_type": "stream",
          "name": "stdout",
          "text": [
            "\n",
            "Model saved successfully as 'models/car_price_rf_model'\n"
          ]
        }
      ],
      "source": [
        "model.save(\"models/car_price_rf_model\")\n",
        "print(\"\\nModel saved successfully as 'models/car_price_rf_model'\")"
      ]
    },
    {
      "cell_type": "code",
      "execution_count": null,
      "id": "aa884ec5",
      "metadata": {
        "id": "aa884ec5"
      },
      "outputs": [],
      "source": [
        "spark.stop()"
      ]
    },
    {
      "cell_type": "markdown",
      "id": "w0OTn1ZT_7G7",
      "metadata": {
        "id": "w0OTn1ZT_7G7"
      },
      "source": [
        "**Q2 — Telecom Churn Classification**"
      ]
    },
    {
      "cell_type": "markdown",
      "id": "PNe8KRlCBTkY",
      "metadata": {
        "id": "PNe8KRlCBTkY"
      },
      "source": [
        "Create Spark session"
      ]
    },
    {
      "cell_type": "code",
      "execution_count": null,
      "id": "F9R6kJglAe1r",
      "metadata": {
        "id": "F9R6kJglAe1r"
      },
      "outputs": [],
      "source": [
        "spark = SparkSession.builder.appName(\"TelecomChurnClassification\").getOrCreate()"
      ]
    },
    {
      "cell_type": "markdown",
      "id": "Q9YNg7QUBbdj",
      "metadata": {
        "id": "Q9YNg7QUBbdj"
      },
      "source": [
        "Load dataset"
      ]
    },
    {
      "cell_type": "code",
      "execution_count": null,
      "id": "pnrYm0GwAfSG",
      "metadata": {
        "id": "pnrYm0GwAfSG",
        "colab": {
          "base_uri": "https://localhost:8080/"
        },
        "outputId": "7c13d879-54df-48b1-ae62-b708697dea1a"
      },
      "outputs": [
        {
          "output_type": "stream",
          "name": "stdout",
          "text": [
            "Dataset Loaded Successfully!\n",
            "root\n",
            " |-- RowNumber: integer (nullable = true)\n",
            " |-- CustomerId: integer (nullable = true)\n",
            " |-- Surname: string (nullable = true)\n",
            " |-- CreditScore: integer (nullable = true)\n",
            " |-- Geography: string (nullable = true)\n",
            " |-- Gender: string (nullable = true)\n",
            " |-- Age: integer (nullable = true)\n",
            " |-- Tenure: integer (nullable = true)\n",
            " |-- Balance: double (nullable = true)\n",
            " |-- NumOfProducts: integer (nullable = true)\n",
            " |-- HasCrCard: integer (nullable = true)\n",
            " |-- IsActiveMember: integer (nullable = true)\n",
            " |-- EstimatedSalary: double (nullable = true)\n",
            " |-- Exited: integer (nullable = true)\n",
            "\n",
            "+---------+----------+--------+-----------+---------+------+---+------+---------+-------------+---------+--------------+---------------+------+\n",
            "|RowNumber|CustomerId| Surname|CreditScore|Geography|Gender|Age|Tenure|  Balance|NumOfProducts|HasCrCard|IsActiveMember|EstimatedSalary|Exited|\n",
            "+---------+----------+--------+-----------+---------+------+---+------+---------+-------------+---------+--------------+---------------+------+\n",
            "|        1|  15634602|Hargrave|        619|   France|Female| 42|     2|      0.0|            1|        1|             1|      101348.88|     1|\n",
            "|        2|  15647311|    Hill|        608|    Spain|Female| 41|     1| 83807.86|            1|        0|             1|      112542.58|     0|\n",
            "|        3|  15619304|    Onio|        502|   France|Female| 42|     8| 159660.8|            3|        1|             0|      113931.57|     1|\n",
            "|        4|  15701354|    Boni|        699|   France|Female| 39|     1|      0.0|            2|        0|             0|       93826.63|     0|\n",
            "|        5|  15737888|Mitchell|        850|    Spain|Female| 43|     2|125510.82|            1|        1|             1|        79084.1|     0|\n",
            "+---------+----------+--------+-----------+---------+------+---+------+---------+-------------+---------+--------------+---------------+------+\n",
            "only showing top 5 rows\n",
            "\n"
          ]
        }
      ],
      "source": [
        "data_path = \"/content/drive/My Drive/Churn_Modelling.csv\"\n",
        "df = spark.read.option(\"header\", True).option(\"inferSchema\", True).csv(data_path)\n",
        "\n",
        "print(\"Dataset Loaded Successfully!\")\n",
        "df.printSchema()\n",
        "df.show(5)"
      ]
    },
    {
      "cell_type": "markdown",
      "id": "ft3wOhAgCShH",
      "metadata": {
        "id": "ft3wOhAgCShH"
      },
      "source": [
        "Drop unnecessary columns"
      ]
    },
    {
      "cell_type": "code",
      "execution_count": null,
      "id": "GqaHy8abAfU3",
      "metadata": {
        "id": "GqaHy8abAfU3"
      },
      "outputs": [],
      "source": [
        "cols_to_drop = ['RowNumber', 'CustomerId', 'Surname']\n",
        "df = df.drop(*cols_to_drop)"
      ]
    },
    {
      "cell_type": "markdown",
      "id": "l40Hn4MPCYfl",
      "metadata": {
        "id": "l40Hn4MPCYfl"
      },
      "source": [
        "Handle categorical variables"
      ]
    },
    {
      "cell_type": "code",
      "execution_count": null,
      "id": "e8hQRynUAfXY",
      "metadata": {
        "id": "e8hQRynUAfXY"
      },
      "outputs": [],
      "source": [
        "cat_cols = ['Geography', 'Gender']\n",
        "indexers = [StringIndexer(inputCol=c, outputCol=c+\"_index\", handleInvalid=\"keep\") for c in cat_cols]"
      ]
    },
    {
      "cell_type": "markdown",
      "id": "qL5yhP4_CgTo",
      "metadata": {
        "id": "qL5yhP4_CgTo"
      },
      "source": [
        "Define feature columns"
      ]
    },
    {
      "cell_type": "code",
      "execution_count": null,
      "id": "nMi6acTIAfaM",
      "metadata": {
        "id": "nMi6acTIAfaM"
      },
      "outputs": [],
      "source": [
        "feature_cols = [c for c in df.columns if c not in ['Exited'] + cat_cols]\n",
        "feature_cols += [c + \"_index\" for c in cat_cols]"
      ]
    },
    {
      "cell_type": "markdown",
      "id": "ZT8RrbVBCnPR",
      "metadata": {
        "id": "ZT8RrbVBCnPR"
      },
      "source": [
        "Assemble features"
      ]
    },
    {
      "cell_type": "code",
      "execution_count": null,
      "id": "P4qL36rOAfc1",
      "metadata": {
        "id": "P4qL36rOAfc1"
      },
      "outputs": [],
      "source": [
        "assembler = VectorAssembler(inputCols=feature_cols, outputCol=\"features\")"
      ]
    },
    {
      "cell_type": "markdown",
      "id": "ZcVLSTt-CueP",
      "metadata": {
        "id": "ZcVLSTt-CueP"
      },
      "source": [
        "Label encoding"
      ]
    },
    {
      "cell_type": "code",
      "execution_count": null,
      "id": "yJrD90_JAffd",
      "metadata": {
        "id": "yJrD90_JAffd"
      },
      "outputs": [],
      "source": [
        "label_indexer = StringIndexer(inputCol=\"Exited\", outputCol=\"label\")"
      ]
    },
    {
      "cell_type": "markdown",
      "id": "qb8rGwqnC1gM",
      "metadata": {
        "id": "qb8rGwqnC1gM"
      },
      "source": [
        "Apply transformations"
      ]
    },
    {
      "cell_type": "code",
      "execution_count": null,
      "id": "hdcM38W8AfiV",
      "metadata": {
        "id": "hdcM38W8AfiV"
      },
      "outputs": [],
      "source": [
        "from pyspark.ml import Pipeline\n",
        "\n",
        "pipeline = Pipeline(stages=indexers + [label_indexer, assembler])\n",
        "data = pipeline.fit(df).transform(df)"
      ]
    },
    {
      "cell_type": "markdown",
      "id": "Nie_Mh-LC8C0",
      "metadata": {
        "id": "Nie_Mh-LC8C0"
      },
      "source": [
        "Split into train/test"
      ]
    },
    {
      "cell_type": "code",
      "execution_count": null,
      "id": "oqe6FZR6Afk3",
      "metadata": {
        "id": "oqe6FZR6Afk3"
      },
      "outputs": [],
      "source": [
        "train, test = data.randomSplit([0.8, 0.2], seed=42)"
      ]
    },
    {
      "cell_type": "markdown",
      "id": "cngnVlLTDA9m",
      "metadata": {
        "id": "cngnVlLTDA9m"
      },
      "source": [
        "Train model"
      ]
    },
    {
      "cell_type": "code",
      "execution_count": null,
      "id": "OwZVbSihAfoK",
      "metadata": {
        "id": "OwZVbSihAfoK"
      },
      "outputs": [],
      "source": [
        "rf = RandomForestClassifier(featuresCol=\"features\", labelCol=\"label\", numTrees=100, maxDepth=6)\n",
        "model = rf.fit(train)"
      ]
    },
    {
      "cell_type": "markdown",
      "id": "B8IgBFVCDJHx",
      "metadata": {
        "id": "B8IgBFVCDJHx"
      },
      "source": [
        "Predictions"
      ]
    },
    {
      "cell_type": "code",
      "execution_count": null,
      "id": "1oTHgk4IDF65",
      "metadata": {
        "id": "1oTHgk4IDF65",
        "colab": {
          "base_uri": "https://localhost:8080/"
        },
        "outputId": "7e5d9cb5-4436-4484-be85-27f853517add"
      },
      "outputs": [
        {
          "output_type": "stream",
          "name": "stdout",
          "text": [
            "+-----+----------+----------------------------------------+\n",
            "|label|prediction|probability                             |\n",
            "+-----+----------+----------------------------------------+\n",
            "|1.0  |0.0       |[0.7164837894083183,0.28351621059168175]|\n",
            "|1.0  |1.0       |[0.04095023955194143,0.9590497604480587]|\n",
            "|1.0  |1.0       |[0.11107404822002012,0.8889259517799799]|\n",
            "|1.0  |1.0       |[0.21093233017033824,0.7890676698296617]|\n",
            "|1.0  |1.0       |[0.2587129226338771,0.741287077366123]  |\n",
            "|1.0  |0.0       |[0.8811319736741992,0.11886802632580082]|\n",
            "|0.0  |0.0       |[0.9300995464137289,0.06990045358627103]|\n",
            "|0.0  |0.0       |[0.8706012646387378,0.12939873536126226]|\n",
            "|0.0  |0.0       |[0.8574074121879817,0.14259258781201833]|\n",
            "|0.0  |0.0       |[0.9258531729579172,0.07414682704208271]|\n",
            "+-----+----------+----------------------------------------+\n",
            "only showing top 10 rows\n",
            "\n"
          ]
        }
      ],
      "source": [
        "predictions = model.transform(test)\n",
        "predictions.select(\"label\", \"prediction\", \"probability\").show(10, truncate=False)"
      ]
    },
    {
      "cell_type": "markdown",
      "id": "tD6lVBLuDZtP",
      "metadata": {
        "id": "tD6lVBLuDZtP"
      },
      "source": [
        "Evaluate"
      ]
    },
    {
      "cell_type": "code",
      "execution_count": null,
      "id": "MrPjTbnqDF9h",
      "metadata": {
        "id": "MrPjTbnqDF9h",
        "colab": {
          "base_uri": "https://localhost:8080/"
        },
        "outputId": "a11d9ee9-5ed5-4638-a66b-a79e7ce1df87"
      },
      "outputs": [
        {
          "output_type": "stream",
          "name": "stdout",
          "text": [
            "\n",
            "Classification Report:\n",
            "Accuracy :  0.8511\n",
            "Precision: 0.8444\n",
            "Recall   : 0.8511\n",
            "F1 Score : 0.8311\n",
            "AUC-ROC  : 0.8484\n"
          ]
        }
      ],
      "source": [
        "multi_eval = MulticlassClassificationEvaluator(labelCol=\"label\", predictionCol=\"prediction\")\n",
        "binary_eval = BinaryClassificationEvaluator(labelCol=\"label\", rawPredictionCol=\"rawPrediction\")\n",
        "\n",
        "accuracy = multi_eval.evaluate(predictions, {multi_eval.metricName: \"accuracy\"})\n",
        "f1 = multi_eval.evaluate(predictions, {multi_eval.metricName: \"f1\"})\n",
        "precision = multi_eval.evaluate(predictions, {multi_eval.metricName: \"weightedPrecision\"})\n",
        "recall = multi_eval.evaluate(predictions, {multi_eval.metricName: \"weightedRecall\"})\n",
        "auc = binary_eval.evaluate(predictions)\n",
        "\n",
        "print(\"\\nClassification Report:\")\n",
        "print(f\"Accuracy :  {accuracy:.4f}\")\n",
        "print(f\"Precision: {precision:.4f}\")\n",
        "print(f\"Recall   : {recall:.4f}\")\n",
        "print(f\"F1 Score : {f1:.4f}\")\n",
        "print(f\"AUC-ROC  : {auc:.4f}\")\n"
      ]
    },
    {
      "cell_type": "markdown",
      "id": "zAueqrfyDiMW",
      "metadata": {
        "id": "zAueqrfyDiMW"
      },
      "source": [
        "Stop Spark session"
      ]
    },
    {
      "cell_type": "code",
      "execution_count": null,
      "id": "eTxxGtXEDGAC",
      "metadata": {
        "id": "eTxxGtXEDGAC"
      },
      "outputs": [],
      "source": [
        "spark.stop()"
      ]
    }
  ],
  "metadata": {
    "colab": {
      "provenance": [],
      "gpuType": "T4",
      "include_colab_link": true
    },
    "kernelspec": {
      "display_name": "Python 3",
      "name": "python3"
    },
    "language_info": {
      "codemirror_mode": {
        "name": "ipython",
        "version": 3
      },
      "file_extension": ".py",
      "mimetype": "text/x-python",
      "name": "python",
      "nbconvert_exporter": "python",
      "pygments_lexer": "ipython3",
      "version": "3.11.0"
    },
    "accelerator": "GPU"
  },
  "nbformat": 4,
  "nbformat_minor": 5
}